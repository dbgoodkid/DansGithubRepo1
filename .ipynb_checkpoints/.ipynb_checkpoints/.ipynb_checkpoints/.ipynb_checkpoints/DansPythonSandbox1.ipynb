{
 "cells": [
  {
   "cell_type": "code",
   "execution_count": null,
   "metadata": {
    "execution": {
     "iopub.execute_input": "2022-01-31T18:30:42.189042Z",
     "iopub.status.busy": "2022-01-31T18:30:42.188618Z",
     "iopub.status.idle": "2022-01-31T18:30:42.196478Z",
     "shell.execute_reply": "2022-01-31T18:30:42.195696Z",
     "shell.execute_reply.started": "2022-01-31T18:30:42.188998Z"
    },
    "tags": []
   },
   "outputs": [],
   "source": [
    "handset_id = 90993\n",
    "#this is a comment line\n",
    "plan = 199\n",
    "print(handset_id, plan)\n",
    "print('next block of code')\n",
    "if(plan==199):\n",
    "     op = 'You are eliglbe for a discount';\n",
    "else:\n",
    "     op = 'You are NOT eligible for a discount';\n",
    "print(op)\n",
    "\n",
    "plan = 200\n",
    "print(handset_id, plan)\n",
    "print('next block of code')\n",
    "if(plan==199):\n",
    "     op = 'You are eliglbe for a discount';\n",
    "else:\n",
    "     op = 'You are NOT eligible for a discount';\n",
    "print(op)\n"
   ]
  },
  {
   "cell_type": "code",
   "execution_count": 68,
   "metadata": {
    "execution": {
     "iopub.execute_input": "2022-01-31T19:22:34.663079Z",
     "iopub.status.busy": "2022-01-31T19:22:34.662791Z",
     "iopub.status.idle": "2022-01-31T19:22:34.667968Z",
     "shell.execute_reply": "2022-01-31T19:22:34.667336Z",
     "shell.execute_reply.started": "2022-01-31T19:22:34.663050Z"
    },
    "tags": []
   },
   "outputs": [
    {
     "data": {
      "text/plain": [
       "6"
      ]
     },
     "execution_count": 68,
     "metadata": {},
     "output_type": "execute_result"
    }
   ],
   "source": [
    "absol_value()"
   ]
  },
  {
   "cell_type": "code",
   "execution_count": 64,
   "metadata": {
    "execution": {
     "iopub.execute_input": "2022-01-31T19:21:20.566776Z",
     "iopub.status.busy": "2022-01-31T19:21:20.566502Z",
     "iopub.status.idle": "2022-01-31T19:21:20.570571Z",
     "shell.execute_reply": "2022-01-31T19:21:20.569939Z",
     "shell.execute_reply.started": "2022-01-31T19:21:20.566748Z"
    },
    "tags": []
   },
   "outputs": [],
   "source": [
    "#this is a simple function syntax\n",
    "def absol_value(i):\n",
    "    \"\"\"this function returns the absolute value of the paramete 'i'\"\"\"\n",
    "    if i >= 0:\n",
    "        return i\n",
    "    else:\n",
    "        return -i"
   ]
  },
  {
   "cell_type": "code",
   "execution_count": null,
   "metadata": {},
   "outputs": [],
   "source": []
  }
 ],
 "metadata": {
  "kernelspec": {
   "display_name": "Python [conda env:root] *",
   "language": "python",
   "name": "conda-root-py"
  },
  "language_info": {
   "codemirror_mode": {
    "name": "ipython",
    "version": 3
   },
   "file_extension": ".py",
   "mimetype": "text/x-python",
   "name": "python",
   "nbconvert_exporter": "python",
   "pygments_lexer": "ipython3",
   "version": "3.8.8"
  }
 },
 "nbformat": 4,
 "nbformat_minor": 4
}
